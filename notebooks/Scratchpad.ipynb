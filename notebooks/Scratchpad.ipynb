{
 "cells": [
  {
   "cell_type": "markdown",
   "id": "e5635fbc",
   "metadata": {},
   "source": [
    "# Scratchpad"
   ]
  },
  {
   "cell_type": "code",
   "execution_count": null,
   "id": "56c98ab6",
   "metadata": {},
   "outputs": [],
   "source": [
    "from obspy import read\n",
    "from requests import Request"
   ]
  },
  {
   "cell_type": "code",
   "execution_count": null,
   "id": "0fe6fcd0",
   "metadata": {},
   "outputs": [],
   "source": [
    "rdsa_dataselect = \"http://rdsa.knmi.nl/fdsnws/dataselect/1/query\""
   ]
  },
  {
   "cell_type": "markdown",
   "id": "0bbb501e",
   "metadata": {},
   "source": [
    "# Chapter 1"
   ]
  },
  {
   "cell_type": "markdown",
   "id": "2f26c003",
   "metadata": {},
   "source": [
    "## Event knmi2019jxxm\n",
    "http://rdsa.knmi.nl/fdsnws/event/1/query?format=text&eventid=knmi2019jxxm"
   ]
  },
  {
   "cell_type": "code",
   "execution_count": null,
   "id": "f220cd85",
   "metadata": {},
   "outputs": [],
   "source": [
    "%%time\n",
    "params = {\n",
    "    \"start\": \"2019-05-22T00:00:00\",\n",
    "    \"end\": \"2019-05-22T23:59:59\",\n",
    "    \"net\": \"NL\",\n",
    "    \"sta\": \"BSTD\",\n",
    "    \"cha\": \"HGZ\",\n",
    "}\n",
    "r = Request('GET', rdsa_dataselect, params=params).prepare()\n",
    "st1 = read(r.url)\n",
    "st1.plot(type=\"dayplot\")\n",
    "st1.plot(outfile=\"out/NL-BSTD-HGZ-knmi2019jxxm-daily.pdf\", type=\"dayplot\")"
   ]
  },
  {
   "cell_type": "code",
   "execution_count": null,
   "id": "55bc6ccb",
   "metadata": {},
   "outputs": [],
   "source": [
    "%%time\n",
    "params = {\n",
    "    \"start\": \"2019-05-22T03:49:00\",\n",
    "    \"end\": \"2019-05-22T03:49:30\",\n",
    "    \"net\": \"NL\",\n",
    "    \"sta\": \"BSTD\",\n",
    "    \"cha\": \"HGZ\",\n",
    "}\n",
    "r = Request('GET', rdsa_dataselect, params=params).prepare()\n",
    "st2 = read(r.url)\n",
    "st2.plot()\n",
    "st2.plot(outfile=\"out/NL-BSTD-HGZ-knmi2019jxxm-zoomed.pdf\")"
   ]
  },
  {
   "cell_type": "markdown",
   "id": "367d8616",
   "metadata": {},
   "source": [
    "## Event knmi2021ljym\n",
    "http://rdsa.knmi.nl/fdsnws/event/1/query?format=text&eventid=knmi2021ljym"
   ]
  },
  {
   "cell_type": "code",
   "execution_count": null,
   "id": "d9cb09b6",
   "metadata": {},
   "outputs": [],
   "source": [
    "%%time\n",
    "params = {\n",
    "    \"start\": \"2021-06-11T23:29:30\",\n",
    "    \"end\": \"2021-06-11T23:30:00\",\n",
    "    \"net\": \"NL\",\n",
    "    \"sta\": \"BHAR\",\n",
    "    \"cha\": \"HGZ\",\n",
    "}\n",
    "r = Request('GET', rdsa_dataselect, params=params).prepare()\n",
    "st3 = read(r.url)\n",
    "st3.plot()\n",
    "st3.plot(outfile=\"out/NL-BHAR-HGZ-knmi2021ljym-zoomed.pdf\")"
   ]
  },
  {
   "cell_type": "code",
   "execution_count": null,
   "id": "88a364e0",
   "metadata": {},
   "outputs": [],
   "source": []
  }
 ],
 "metadata": {
  "kernelspec": {
   "display_name": "Python 3 (ipykernel)",
   "language": "python",
   "name": "python3"
  },
  "language_info": {
   "codemirror_mode": {
    "name": "ipython",
    "version": 3
   },
   "file_extension": ".py",
   "mimetype": "text/x-python",
   "name": "python",
   "nbconvert_exporter": "python",
   "pygments_lexer": "ipython3",
   "version": "3.8.10"
  }
 },
 "nbformat": 4,
 "nbformat_minor": 5
}
