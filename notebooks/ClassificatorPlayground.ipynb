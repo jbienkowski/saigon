{
 "cells": [
  {
   "cell_type": "code",
   "execution_count": 1,
   "id": "0cec8a5d",
   "metadata": {},
   "outputs": [],
   "source": [
    "import h5py\n",
    "import tensorflow as tf\n",
    "import numpy as np\n",
    "\n",
    "from scipy.signal import spectrogram"
   ]
  },
  {
   "cell_type": "code",
   "execution_count": 2,
   "id": "f937960f",
   "metadata": {},
   "outputs": [],
   "source": [
    "CLASS_NAMES = [\"EQ\", \"AN\"]\n",
    "NUM_CLASSES = len(CLASS_NAMES)"
   ]
  },
  {
   "cell_type": "code",
   "execution_count": 192,
   "id": "4c3cb57f",
   "metadata": {},
   "outputs": [],
   "source": [
    "def get_data(file_path, idx_start, idx_end, idx_slice):\n",
    "    x_train = None\n",
    "    y_train = None\n",
    "    x_test = None\n",
    "    y_test = None\n",
    "    with h5py.File(file_path, \"r\") as f:\n",
    "        x_train = f[\"data\"][idx_start:idx_slice]\n",
    "        y_train = f[\"labels\"][idx_start:idx_slice]\n",
    "        x_test = f[\"data\"][idx_slice:idx_end]\n",
    "        y_test = f[\"labels\"][idx_slice:idx_end]\n",
    "        return (x_train, y_train, x_test, y_test)"
   ]
  },
  {
   "cell_type": "code",
   "execution_count": 210,
   "id": "8ee766d5",
   "metadata": {},
   "outputs": [],
   "source": [
    "(x_train, y_train, x_test, y_test) = get_data(\"/Users/jarek/git/saigon/data/LEN-DB-processed.hdf5\", 0, 10000, 8000)"
   ]
  },
  {
   "cell_type": "code",
   "execution_count": 211,
   "id": "7d76a2e6",
   "metadata": {},
   "outputs": [],
   "source": [
    "x_train *= 1000000\n",
    "x_test *= 1000000"
   ]
  },
  {
   "cell_type": "code",
   "execution_count": 255,
   "id": "1005bf5b",
   "metadata": {},
   "outputs": [
    {
     "data": {
      "text/plain": [
       "(8000, 1620, 1)"
      ]
     },
     "execution_count": 255,
     "metadata": {},
     "output_type": "execute_result"
    }
   ],
   "source": [
    "X = np.expand_dims(x_train, axis = 2)\n",
    "X.shape"
   ]
  },
  {
   "cell_type": "code",
   "execution_count": 256,
   "id": "57880d5f",
   "metadata": {},
   "outputs": [
    {
     "data": {
      "text/plain": [
       "(8000,)"
      ]
     },
     "execution_count": 256,
     "metadata": {},
     "output_type": "execute_result"
    }
   ],
   "source": [
    "Y = np.array(y_train)\n",
    "Y.shape"
   ]
  },
  {
   "cell_type": "code",
   "execution_count": 263,
   "id": "6f443923",
   "metadata": {},
   "outputs": [
    {
     "data": {
      "text/plain": [
       "(2000, 1620, 1)"
      ]
     },
     "execution_count": 263,
     "metadata": {},
     "output_type": "execute_result"
    }
   ],
   "source": [
    "T = np.expand_dims(x_test, axis = 2)\n",
    "T.shape"
   ]
  },
  {
   "cell_type": "code",
   "execution_count": 264,
   "id": "997736f6",
   "metadata": {},
   "outputs": [
    {
     "data": {
      "text/plain": [
       "(2000,)"
      ]
     },
     "execution_count": 264,
     "metadata": {},
     "output_type": "execute_result"
    }
   ],
   "source": [
    "Q = np.array(y_test)\n",
    "Q.shape"
   ]
  },
  {
   "cell_type": "code",
   "execution_count": 257,
   "id": "d351c6f2",
   "metadata": {},
   "outputs": [],
   "source": [
    "drop_out_rate = 0.1\n",
    "\n",
    "model = tf.keras.Sequential([\n",
    "    tf.keras.layers.Input(shape=(1620,1)),\n",
    "    tf.keras.layers.Conv1D(8, 11, padding='valid', activation='relu', strides=1),\n",
    "    tf.keras.layers.MaxPooling1D(2),\n",
    "    tf.keras.layers.Dropout(drop_out_rate),\n",
    "    tf.keras.layers.Conv1D(16, 7, padding='valid', activation='relu', strides=1),\n",
    "    tf.keras.layers.MaxPooling1D(2),\n",
    "    tf.keras.layers.Dropout(drop_out_rate),\n",
    "    tf.keras.layers.Conv1D(32, 5, padding='valid', activation='relu', strides=1),\n",
    "    tf.keras.layers.MaxPooling1D(2),\n",
    "    tf.keras.layers.Dropout(drop_out_rate),\n",
    "    tf.keras.layers.Conv1D(64, 5, padding='valid', activation='relu', strides=1),\n",
    "    tf.keras.layers.MaxPooling1D(2),\n",
    "    tf.keras.layers.Dropout(drop_out_rate),\n",
    "    tf.keras.layers.Conv1D(128, 3, padding='valid', activation='relu', strides=1),\n",
    "    tf.keras.layers.MaxPooling1D(2),\n",
    "    tf.keras.layers.Flatten(),\n",
    "    tf.keras.layers.Dense(256, activation='relu'),\n",
    "    tf.keras.layers.Dropout(drop_out_rate),\n",
    "    tf.keras.layers.Dense(128, activation='relu'),\n",
    "    tf.keras.layers.Dropout(drop_out_rate),\n",
    "    tf.keras.layers.Dense(2, activation='softmax')\n",
    "])"
   ]
  },
  {
   "cell_type": "code",
   "execution_count": 258,
   "id": "4470704f",
   "metadata": {},
   "outputs": [],
   "source": [
    "model.compile(optimizer='adam',\n",
    "              loss=tf.keras.losses.SparseCategoricalCrossentropy(from_logits=True),\n",
    "              metrics=['accuracy'])\n"
   ]
  },
  {
   "cell_type": "code",
   "execution_count": 261,
   "id": "69362c48",
   "metadata": {},
   "outputs": [
    {
     "name": "stdout",
     "output_type": "stream",
     "text": [
      "Epoch 1/3\n",
      "250/250 [==============================] - 10s 41ms/step - loss: 0.2610 - accuracy: 0.8967\n",
      "Epoch 2/3\n",
      "250/250 [==============================] - 10s 40ms/step - loss: 0.2886 - accuracy: 0.9041\n",
      "Epoch 3/3\n",
      "250/250 [==============================] - 10s 39ms/step - loss: 0.2692 - accuracy: 0.9115\n"
     ]
    },
    {
     "data": {
      "text/plain": [
       "<keras.callbacks.History at 0x7fd1e737c610>"
      ]
     },
     "execution_count": 261,
     "metadata": {},
     "output_type": "execute_result"
    }
   ],
   "source": [
    "model.fit(X, Y, epochs=3)"
   ]
  },
  {
   "cell_type": "code",
   "execution_count": 265,
   "id": "509817ea",
   "metadata": {},
   "outputs": [
    {
     "name": "stdout",
     "output_type": "stream",
     "text": [
      "63/63 - 1s - loss: 0.2379 - accuracy: 0.9075\n"
     ]
    }
   ],
   "source": [
    "test_loss, test_acc = model.evaluate(T, Q, verbose=2)"
   ]
  },
  {
   "cell_type": "code",
   "execution_count": null,
   "id": "1a19e111",
   "metadata": {},
   "outputs": [],
   "source": []
  },
  {
   "cell_type": "code",
   "execution_count": null,
   "id": "5dc60f5d",
   "metadata": {},
   "outputs": [],
   "source": []
  }
 ],
 "metadata": {
  "kernelspec": {
   "display_name": "Python 3 (ipykernel)",
   "language": "python",
   "name": "python3"
  },
  "language_info": {
   "codemirror_mode": {
    "name": "ipython",
    "version": 3
   },
   "file_extension": ".py",
   "mimetype": "text/x-python",
   "name": "python",
   "nbconvert_exporter": "python",
   "pygments_lexer": "ipython3",
   "version": "3.8.10"
  }
 },
 "nbformat": 4,
 "nbformat_minor": 5
}
