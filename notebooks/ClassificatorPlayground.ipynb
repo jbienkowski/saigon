{
 "cells": [
  {
   "cell_type": "code",
   "execution_count": null,
   "id": "0cec8a5d",
   "metadata": {},
   "outputs": [],
   "source": [
    "import os\n",
    "import h5py\n",
    "import tensorflow as tf\n",
    "import numpy as np\n",
    "\n",
    "from time import strftime\n",
    "from scipy.signal import spectrogram"
   ]
  },
  {
   "cell_type": "code",
   "execution_count": null,
   "id": "f937960f",
   "metadata": {},
   "outputs": [],
   "source": [
    "MODEL_NAME = \"ClassificatorPlayground\""
   ]
  },
  {
   "cell_type": "code",
   "execution_count": null,
   "id": "4c3cb57f",
   "metadata": {},
   "outputs": [],
   "source": [
    "def get_data(file_path, idx_start, idx_end, idx_slice):\n",
    "    x_train = None\n",
    "    y_train = None\n",
    "    x_test = None\n",
    "    y_test = None\n",
    "    with h5py.File(file_path, \"r\") as f:\n",
    "        x_train = f[\"data\"][idx_start:idx_slice]\n",
    "        y_train = f[\"labels\"][idx_start:idx_slice]\n",
    "        x_test = f[\"data\"][idx_slice:idx_end]\n",
    "        y_test = f[\"labels\"][idx_slice:idx_end]\n",
    "        return (x_train, y_train, x_test, y_test)"
   ]
  },
  {
   "cell_type": "code",
   "execution_count": null,
   "id": "8ee766d5",
   "metadata": {},
   "outputs": [],
   "source": [
    "(x_train, y_train, x_test, y_test) = get_data(\"../data/LEN-DB-processed.hdf5\", 10000, 20000, 18000)"
   ]
  },
  {
   "cell_type": "code",
   "execution_count": null,
   "id": "7d76a2e6",
   "metadata": {},
   "outputs": [],
   "source": [
    "x_train *= 1000000\n",
    "x_test *= 1000000"
   ]
  },
  {
   "cell_type": "code",
   "execution_count": null,
   "id": "6dff485f",
   "metadata": {},
   "outputs": [],
   "source": [
    "x_train = x_train.reshape(x_train.shape[0], 1620)\n",
    "x_test = x_test.reshape(x_test.shape[0], 1620)"
   ]
  },
  {
   "cell_type": "code",
   "execution_count": null,
   "id": "1005bf5b",
   "metadata": {},
   "outputs": [],
   "source": [
    "X = np.expand_dims(x_train, axis = 2)\n",
    "X.shape"
   ]
  },
  {
   "cell_type": "code",
   "execution_count": null,
   "id": "57880d5f",
   "metadata": {},
   "outputs": [],
   "source": [
    "Y = np.array(y_train)\n",
    "Y.shape"
   ]
  },
  {
   "cell_type": "code",
   "execution_count": null,
   "id": "6f443923",
   "metadata": {},
   "outputs": [],
   "source": [
    "T = np.expand_dims(x_test, axis = 2)\n",
    "T.shape"
   ]
  },
  {
   "cell_type": "code",
   "execution_count": null,
   "id": "997736f6",
   "metadata": {},
   "outputs": [],
   "source": [
    "Q = np.array(y_test)\n",
    "Q.shape"
   ]
  },
  {
   "cell_type": "code",
   "execution_count": null,
   "id": "41c7de6f",
   "metadata": {},
   "outputs": [],
   "source": [
    "folder_name = f\"{MODEL_NAME} at {strftime('%H:%M')}\"\n",
    "log_dir = os.path.join(\"../log/\", folder_name)\n",
    "\n",
    "try:\n",
    "    os.makedirs(log_dir)\n",
    "except OSError as exception:\n",
    "    print(exception.strerror)\n",
    "else:\n",
    "    print(\"Successfully created dirs!\")"
   ]
  },
  {
   "cell_type": "code",
   "execution_count": null,
   "id": "d351c6f2",
   "metadata": {},
   "outputs": [],
   "source": [
    "drop_out_rate = 0.2\n",
    "\n",
    "model = tf.keras.Sequential([\n",
    "    tf.keras.layers.Input(shape=(1620,1)),\n",
    "    tf.keras.layers.Conv1D(8, 11, padding='valid', activation='relu', strides=1),\n",
    "    tf.keras.layers.MaxPooling1D(2),\n",
    "    tf.keras.layers.Dropout(drop_out_rate),\n",
    "    tf.keras.layers.Conv1D(16, 7, padding='valid', activation='relu', strides=1),\n",
    "    tf.keras.layers.MaxPooling1D(2),\n",
    "    tf.keras.layers.Dropout(drop_out_rate),\n",
    "    tf.keras.layers.Conv1D(32, 5, padding='valid', activation='relu', strides=1),\n",
    "    tf.keras.layers.MaxPooling1D(2),\n",
    "    tf.keras.layers.Dropout(drop_out_rate),\n",
    "    tf.keras.layers.Conv1D(64, 5, padding='valid', activation='relu', strides=1),\n",
    "    tf.keras.layers.MaxPooling1D(2),\n",
    "    tf.keras.layers.Dropout(drop_out_rate),\n",
    "    tf.keras.layers.Conv1D(128, 3, padding='valid', activation='relu', strides=1),\n",
    "    tf.keras.layers.MaxPooling1D(2),\n",
    "    tf.keras.layers.Flatten(),\n",
    "    tf.keras.layers.Dense(256, activation='relu'),\n",
    "    tf.keras.layers.Dropout(drop_out_rate),\n",
    "    tf.keras.layers.Dense(128, activation='relu'),\n",
    "    tf.keras.layers.Dropout(drop_out_rate),\n",
    "    tf.keras.layers.Dense(2, activation='softmax')\n",
    "])"
   ]
  },
  {
   "cell_type": "code",
   "execution_count": null,
   "id": "4470704f",
   "metadata": {},
   "outputs": [],
   "source": [
    "adam = tf.keras.optimizers.Adam(learning_rate=0.001)\n",
    "\n",
    "model.compile(optimizer=adam,\n",
    "              loss=tf.keras.losses.SparseCategoricalCrossentropy(),\n",
    "              metrics=['accuracy'])\n",
    "model.summary()"
   ]
  },
  {
   "cell_type": "code",
   "execution_count": null,
   "id": "cbcfea30",
   "metadata": {},
   "outputs": [],
   "source": [
    "tensorboard_callback = tf.keras.callbacks.TensorBoard(log_dir=log_dir, histogram_freq=1)"
   ]
  },
  {
   "cell_type": "code",
   "execution_count": null,
   "id": "69362c48",
   "metadata": {},
   "outputs": [],
   "source": [
    "model.fit(X, Y, epochs=25, validation_data=(T, Q), callbacks=[tensorboard_callback])"
   ]
  },
  {
   "cell_type": "code",
   "execution_count": null,
   "id": "509817ea",
   "metadata": {},
   "outputs": [],
   "source": [
    "test_loss, test_acc = model.evaluate(T, Q, verbose=2)"
   ]
  },
  {
   "cell_type": "code",
   "execution_count": null,
   "id": "1a19e111",
   "metadata": {},
   "outputs": [],
   "source": []
  },
  {
   "cell_type": "code",
   "execution_count": null,
   "id": "5dc60f5d",
   "metadata": {},
   "outputs": [],
   "source": []
  }
 ],
 "metadata": {
  "kernelspec": {
   "display_name": "Python 3 (ipykernel)",
   "language": "python",
   "name": "python3"
  },
  "language_info": {
   "codemirror_mode": {
    "name": "ipython",
    "version": 3
   },
   "file_extension": ".py",
   "mimetype": "text/x-python",
   "name": "python",
   "nbconvert_exporter": "python",
   "pygments_lexer": "ipython3",
   "version": "3.8.10"
  }
 },
 "nbformat": 4,
 "nbformat_minor": 5
}
