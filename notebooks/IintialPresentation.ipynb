{
 "cells": [
  {
   "cell_type": "code",
   "execution_count": null,
   "id": "1a93355c",
   "metadata": {},
   "outputs": [],
   "source": [
    "import requests\n",
    "\n",
    "from obspy import read, UTCDateTime\n",
    "from obspy.taup import TauPyModel\n",
    "from obspy.geodetics import locations2degrees\n",
    "from obspy import read, UTCDateTime"
   ]
  },
  {
   "cell_type": "code",
   "execution_count": null,
   "id": "5977e276",
   "metadata": {},
   "outputs": [],
   "source": [
    "# We use the iasp91 reference model\n",
    "TAUP_MODEL = TauPyModel(model=\"iasp91\")\n",
    "FDSN_DATASELECT = \"http://rdsa.knmi.nl/fdsnws//dataselect/1/query\"\n",
    "FDSN_EVENT = \"http://knmi-sproc-l01p.knmi.ssc-campus.nl:8080/fdsnws/event/1/query\"\n",
    "FDSN_STATION = \"http://rdsa.knmi.nl/fdsnws/station/1/query\"\n",
    "MAX_RADIUS = 20"
   ]
  },
  {
   "cell_type": "code",
   "execution_count": null,
   "id": "bc7a8607",
   "metadata": {},
   "outputs": [],
   "source": [
    "# Define class for Events\n",
    "class Event:\n",
    "    def __init__(self, line):\n",
    "        self.id, self.time, self.latitude, self.longitude, self.depth = line.split(\"|\")[\n",
    "            :5\n",
    "        ]\n",
    "        self.latitude = float(self.latitude)\n",
    "        self.longitude = float(self.longitude)\n",
    "        self.depth = float(self.depth)\n",
    "\n",
    "\n",
    "def getEvent(identifier):\n",
    "    # We query for a single event identifier and request a text format return\n",
    "    queryString = \"&\".join([\"eventid=%s\" % identifier, \"format=text\"])\n",
    "\n",
    "    # Create the query for an event identifier\n",
    "    r = requests.get(\"%s?%s\" % (FDSN_EVENT, queryString))\n",
    "    \n",
    "    print(r.history[0].url if r.history else r.url)\n",
    "\n",
    "    # Split by lines and remove head & tail\n",
    "    lines = r.text.split(\"\\n\")[1:-1]\n",
    "\n",
    "    # Return Event classes for each entry\n",
    "    return list(map(Event, lines))[0]\n"
   ]
  },
  {
   "cell_type": "code",
   "execution_count": null,
   "id": "b72086ec",
   "metadata": {},
   "outputs": [],
   "source": [
    "class Station:\n",
    "    def __init__(self, line):\n",
    "        self.network, self.station, self.latitude, self.longitude = line.split(\"|\")[:4]\n",
    "        self.latitude = float(self.latitude)\n",
    "        self.longitude = float(self.longitude)\n",
    "\n",
    "\n",
    "def getStations(event, net=None, stat=None, channel=\"*\"):\n",
    "    # We query with the event location and a maximum radius around the event\n",
    "    if net and stat:\n",
    "        queryString = \"&\".join([\"network=%s\" % net, \"station=%s\" % stat, \"format=text\"])\n",
    "    else:\n",
    "        queryString = \"&\".join(\n",
    "            [\n",
    "                \"latitude=%s\" % event.latitude,\n",
    "                \"longitude=%s\" % event.longitude,\n",
    "                \"maxradius=%s\" % MAX_RADIUS,\n",
    "                \"channel=%s\" % channel,\n",
    "                \"format=text\",\n",
    "            ]\n",
    "        )\n",
    "\n",
    "    # Request from webservice\n",
    "    r = requests.get(\"%s?%s\" % (FDSN_STATION, queryString))\n",
    "    \n",
    "    print(r.history[0].url if r.history else r.url)\n",
    "\n",
    "    # Split by lines and remove head & tail\n",
    "    lines = r.text.split(\"\\n\")[1:-1]\n",
    "\n",
    "    # Return Event classes for each entry\n",
    "    return map(Station, lines)\n"
   ]
  },
  {
   "cell_type": "code",
   "execution_count": null,
   "id": "8e669de0",
   "metadata": {},
   "outputs": [],
   "source": [
    "def getPArrival(event, station):\n",
    "    # Determine the arc distance using the haversine formula\n",
    "    arcDistanceDegrees = locations2degrees(\n",
    "        event.latitude, station.latitude, event.longitude, station.longitude\n",
    "    )\n",
    "\n",
    "    # Calculate the theoretical P-arrival time\n",
    "    arrivals = TAUP_MODEL.get_travel_times(\n",
    "        source_depth_in_km=1e-3 * event.depth,\n",
    "        distance_in_degree=arcDistanceDegrees,\n",
    "        phase_list=[\"P\"],\n",
    "    )\n",
    "\n",
    "    # Add the theorical P-arrival delta to the event time\n",
    "    return UTCDateTime(event.time) + arrivals[0].time\n"
   ]
  },
  {
   "cell_type": "code",
   "execution_count": null,
   "id": "601bb620",
   "metadata": {},
   "outputs": [],
   "source": [
    "def plot_event(event_id, net=None, stat=None, channel=\"*\"):\n",
    "    event = getEvent(event_id)\n",
    "    print(f\"Found event {event=}\")\n",
    "    # Go over all stations returned in the radius\n",
    "    stations = getStations(event, net, stat, channel)\n",
    "\n",
    "    for idx, station in enumerate(stations):\n",
    "\n",
    "        # Get the theoretical (TauP) pArrval from event to station\n",
    "        stationArrivalTime = getPArrival(event, station)\n",
    "\n",
    "        # Create the query for fdsn-dataselect\n",
    "        # between 300 seconds before & 1200 seconds after the theoretical P-arrival\n",
    "        queryString = \"&\".join(\n",
    "            [\n",
    "                \"network=%s\" % station.network,\n",
    "                \"station=%s\" % station.station,\n",
    "                \"starttime=%s\" % (stationArrivalTime - 300).isoformat(),\n",
    "                \"endtime=%s\" % (stationArrivalTime + 1200).isoformat(),\n",
    "                \"channel=%s\" % channel,\n",
    "            ]\n",
    "        )\n",
    "\n",
    "        # Get the waveform data and read to ObsPy Stream\n",
    "        # Empty responses are skipped\n",
    "        try:\n",
    "            url = \"%s?%s\" % (FDSN_DATASELECT, queryString)\n",
    "            print(f\"Getting data using {url=}\")\n",
    "            st = read(url)\n",
    "        except Exception:\n",
    "            continue\n",
    "\n",
    "        # Use with ObsPy and apply a filter, then plot\n",
    "        # Alternatively, we would save the data to a file\n",
    "#         st.filter(\"lowpass\", freq=0.5)\n",
    "        st.plot()\n",
    "\n",
    "        # Break after the first result\n",
    "        if idx >= 5:\n",
    "            break\n"
   ]
  },
  {
   "cell_type": "code",
   "execution_count": null,
   "id": "40255dc0",
   "metadata": {},
   "outputs": [],
   "source": [
    "# North Korea nuclear blast\n",
    "plot_event(\"knmi2017rfxf\", \"NL\", \"HGN\", \"BH?\")"
   ]
  },
  {
   "cell_type": "code",
   "execution_count": null,
   "id": "ff892d0a",
   "metadata": {},
   "outputs": [],
   "source": [
    "# Sonic boom\n",
    "plot_event(\"knmi2021dzln\")"
   ]
  },
  {
   "cell_type": "code",
   "execution_count": null,
   "id": "6ee85ecb",
   "metadata": {},
   "outputs": [],
   "source": [
    "# Induced\n",
    "plot_event(\"knmi2021qfyc\", \"NL\", \"ARCN\", \"BH?\")"
   ]
  },
  {
   "cell_type": "code",
   "execution_count": null,
   "id": "2ff3dbc6",
   "metadata": {
    "scrolled": true
   },
   "outputs": [],
   "source": [
    "# Tectonic\n",
    "plot_event(\"knmi2021qvoa\", \"NL\", \"HRDB\", \"HG?\")"
   ]
  },
  {
   "cell_type": "code",
   "execution_count": null,
   "id": "a7473676",
   "metadata": {
    "scrolled": true
   },
   "outputs": [],
   "source": [
    "# Noise\n",
    "plot_event(\"knmi2021qfoq\", \"NL\", \"DR031\", \"HH?\")"
   ]
  },
  {
   "cell_type": "code",
   "execution_count": null,
   "id": "eddc0a3f",
   "metadata": {},
   "outputs": [],
   "source": [
    "# Greece\n",
    "st = read(\"http://eida.gein.noa.gr/fdsnws/dataselect/1/query?network=HL&station=IACM&start=2021-09-27T00:00:00&end=2021-09-27T23:59:59&channel=HNE\")\n",
    "st.plot(type=\"dayplot\")"
   ]
  },
  {
   "cell_type": "code",
   "execution_count": null,
   "id": "0ba85614",
   "metadata": {},
   "outputs": [],
   "source": [
    "# Switzerland\n",
    "# https://www.orfeus-eu.org/rrsm/event/20211005_0000063/CH/SZEK/\n",
    "fds = read(\"http://eida.ethz.ch/fdsnws/dataselect/1/query?network=CH&station=SZEK&start=2021-10-05T05:39:20&end=2021-10-05T05:40:25\")\n",
    "fds.plot()"
   ]
  },
  {
   "cell_type": "code",
   "execution_count": null,
   "id": "9f68fdcc",
   "metadata": {},
   "outputs": [],
   "source": []
  }
 ],
 "metadata": {
  "interpreter": {
   "hash": "2d7f67c9aca415fe74563fe035d91b1bc995953008b13864c15ea68591a1a9d7"
  },
  "kernelspec": {
   "display_name": "Python 3 (ipykernel)",
   "language": "python",
   "name": "python3"
  },
  "language_info": {
   "codemirror_mode": {
    "name": "ipython",
    "version": 3
   },
   "file_extension": ".py",
   "mimetype": "text/x-python",
   "name": "python",
   "nbconvert_exporter": "python",
   "pygments_lexer": "ipython3",
   "version": "3.8.10"
  }
 },
 "nbformat": 4,
 "nbformat_minor": 5
}
