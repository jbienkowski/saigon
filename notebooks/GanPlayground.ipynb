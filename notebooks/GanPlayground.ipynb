{
 "cells": [
  {
   "cell_type": "code",
   "execution_count": null,
   "id": "0cec8a5d",
   "metadata": {},
   "outputs": [],
   "source": [
    "import os\n",
    "import h5py\n",
    "import tensorflow as tf\n",
    "import numpy as np\n",
    "import pandas as pd\n",
    "\n",
    "import matplotlib.pyplot as plt\n",
    "import seaborn as sns\n",
    "\n",
    "from time import strftime\n",
    "from scipy.signal import spectrogram, stft, istft"
   ]
  },
  {
   "cell_type": "code",
   "execution_count": null,
   "id": "f937960f",
   "metadata": {},
   "outputs": [],
   "source": [
    "MODEL_NAME = \"GanPlayground\""
   ]
  },
  {
   "cell_type": "code",
   "execution_count": null,
   "id": "e453034c",
   "metadata": {},
   "outputs": [],
   "source": [
    "def plot_all(do, label, fs=100, nperseg=150):\n",
    "    d0 = pd.DataFrame(data=do[0])\n",
    "    d1 = pd.DataFrame(data=do[1])\n",
    "    d2 = pd.DataFrame(data=do[2])\n",
    "\n",
    "    fig = plt.figure(figsize=(16, 10), dpi=80)\n",
    "    ax1 = plt.subplot2grid((5, 6), (0, 0), colspan=3)\n",
    "    ax2 = plt.subplot2grid((5, 6), (1, 0), colspan=3)\n",
    "    ax3 = plt.subplot2grid((5, 6), (2, 0), colspan=3)\n",
    "    ax4 = plt.subplot2grid((5, 6), (0, 3), colspan=3)\n",
    "    ax5 = plt.subplot2grid((5, 6), (1, 3), colspan=3)\n",
    "    ax6 = plt.subplot2grid((5, 6), (2, 3), colspan=3)\n",
    "    ax7 = plt.subplot2grid((5, 6), (3, 0), colspan=2, rowspan=2)\n",
    "    ax8 = plt.subplot2grid((5, 6), (3, 2), colspan=2, rowspan=2)\n",
    "    ax9 = plt.subplot2grid((5, 6), (3, 4), colspan=2, rowspan=2)\n",
    "    \n",
    "    plt.subplots_adjust(hspace=1, wspace=1)\n",
    "\n",
    "    sns.lineplot(data=d0, ax=ax1, linewidth=1, legend=None)\n",
    "    sns.lineplot(data=d1, ax=ax2, linewidth=1, legend=None)\n",
    "    sns.lineplot(data=d2, ax=ax3, linewidth=1, legend=None)\n",
    "\n",
    "    ax1.set_title(\"Vertical component waveform\")\n",
    "    ax1.set(xlabel=\"Samples\", ylabel=\"Amplitude counts\")\n",
    "    ax1.locator_params(nbins=6, axis=\"y\")\n",
    "\n",
    "    ax2.set_title(\"North component waveform\")\n",
    "    ax2.set(xlabel=\"Samples\", ylabel=\"Amplitude counts\")\n",
    "    ax2.locator_params(nbins=6, axis=\"y\")\n",
    "\n",
    "    ax3.set_title(\"East component waveform\")\n",
    "    ax3.set(xlabel=\"Samples\", ylabel=\"Amplitude counts\")\n",
    "    ax3.locator_params(nbins=6, axis=\"y\")\n",
    "    \n",
    "    f_0, t_0, Sxx_0 = spectrogram(x=do[0], fs=fs)\n",
    "    f_1, t_1, Sxx_1 = spectrogram(x=do[1], fs=fs)\n",
    "    f_2, t_2, Sxx_2 = spectrogram(x=do[2], fs=fs)\n",
    "\n",
    "    ax4.clear()\n",
    "    ax4.set_title(\"Vertical component spectrogram\")\n",
    "    ax4.pcolormesh(t_0, f_0, Sxx_0, shading=\"gouraud\")\n",
    "    ax4.set(xlabel=\"Time [sec]\", ylabel=\"Frequency [Hz]\")\n",
    "\n",
    "    ax5.clear()\n",
    "    ax5.set_title(\"North component spectrogram\")\n",
    "    ax5.pcolormesh(t_1, f_1, Sxx_1, shading=\"gouraud\")\n",
    "    ax5.set(xlabel=\"Time [sec]\", ylabel=\"Frequency [Hz]\")\n",
    "\n",
    "    ax6.clear()\n",
    "    ax6.set_title(\"East component spectrogram\")\n",
    "    ax6.pcolormesh(t_2, f_2, Sxx_2, shading=\"gouraud\")\n",
    "    ax6.set(xlabel=\"Time [sec]\", ylabel=\"Frequency [Hz]\")\n",
    "    \n",
    "    f_sftt_0, t_sftt_0, Zxx_0 = stft(do[0], window='hanning', fs=fs, nperseg=nperseg)\n",
    "    f_sftt_1, t_sftt_1, Zxx_1 = stft(do[1], window='hanning', fs=fs, nperseg=nperseg)\n",
    "    f_sftt_2, t_sftt_2, Zxx_2 = stft(do[2], window='hanning', fs=fs, nperseg=nperseg)\n",
    "    \n",
    "    ax7.clear()\n",
    "    ax7.set_title(\"Vertical component STFT\")\n",
    "    ax7.pcolormesh(t_sftt_0, f_sftt_0, np.abs(Zxx_0), shading='auto')\n",
    "    \n",
    "    ax8.clear()\n",
    "    ax8.set_title(\"North component STFT\")\n",
    "    ax8.pcolormesh(t_sftt_1, f_sftt_1, np.abs(Zxx_1), shading='auto')\n",
    "    \n",
    "    ax9.clear()\n",
    "    ax9.set_title(\"East component STFT\")\n",
    "    ax9.pcolormesh(t_sftt_2, f_sftt_2, np.abs(Zxx_2), shading='auto')\n",
    "\n",
    "    plt.suptitle(label, fontsize=14)"
   ]
  },
  {
   "cell_type": "code",
   "execution_count": null,
   "id": "54931672",
   "metadata": {},
   "outputs": [],
   "source": [
    "def plot_stft(stream, fs=100, nperseg=155):\n",
    "    f, t, Zxx = stft(stream, window='hanning', fs=fs, nperseg=nperseg)\n",
    "    # plt.specgram(x_1[0][0], cmap='plasma', Fs=100)\n",
    "    plt.pcolormesh(t, f, np.abs(Zxx), shading='auto')"
   ]
  },
  {
   "cell_type": "code",
   "execution_count": null,
   "id": "4c3cb57f",
   "metadata": {},
   "outputs": [],
   "source": [
    "def get_data(file_path, idx_start, idx_end, idx_slice):\n",
    "    x_train = None\n",
    "#     y_train = None\n",
    "    evi_train = None\n",
    "    x_test = None\n",
    "#     y_test = None\n",
    "    evi_test = None\n",
    "    with h5py.File(file_path, \"r\") as f:\n",
    "        x_train = f[\"data\"][idx_start:idx_slice]\n",
    "#         y_train = f[\"labels\"][idx_start:idx_slice]\n",
    "        evi_train = f[\"keys\"][idx_start:idx_slice]\n",
    "        x_test = f[\"data\"][idx_slice:idx_end]\n",
    "#         y_test = f[\"labels\"][idx_slice:idx_end]\n",
    "        evi_test = f[\"keys\"][idx_slice:idx_end]\n",
    "#         return (x_train, y_train, evi_train, x_test, y_test, evi_test)\n",
    "        return (x_train, evi_train, x_test, evi_test)"
   ]
  },
  {
   "cell_type": "code",
   "execution_count": null,
   "id": "97daaf9b",
   "metadata": {},
   "outputs": [],
   "source": [
    "def build_stfts(x):\n",
    "    x_train = []\n",
    "\n",
    "    for idx, triplet in enumerate(x):\n",
    "        for stream in triplet:\n",
    "            _, _, zxx = stft(stream, window='hanning', nperseg=155)\n",
    "            x_train.append(np.abs(zxx))\n",
    "\n",
    "    return (x_train)"
   ]
  },
  {
   "cell_type": "markdown",
   "id": "5f59a544",
   "metadata": {},
   "source": [
    "# Read processed data\n",
    "\n",
    "`x_?` is a dataset of streams:\n",
    "\n",
    "`x_?[0][0]` -> Z component\n",
    "\n",
    "`x_?[0][1]` -> N component\n",
    "\n",
    "`x_?[0][2]` -> E component\n",
    "\n",
    "`y_?` is a dataset of labels corresponding to streams. `1` means earthquake, `0` means noise."
   ]
  },
  {
   "cell_type": "code",
   "execution_count": null,
   "id": "8ee766d5",
   "metadata": {},
   "outputs": [],
   "source": [
    "# (x_1, y_1, evi_1, x_2, y_2, evi_2) = get_data(\"../data/STEAD-processed-gan.hdf5\", 10000, 20000, 18000)\n",
    "(x_1, evi_1, x_2, evi_2) = get_data(\"../data/STEAD-processed-gan.hdf5\", 10000, 20000, 18000)"
   ]
  },
  {
   "cell_type": "code",
   "execution_count": null,
   "id": "fafbc17a",
   "metadata": {},
   "outputs": [],
   "source": [
    "idx = 12\n",
    "plot_all(x_1[idx], evi_1[idx].decode(\"utf-8\"))"
   ]
  },
  {
   "cell_type": "markdown",
   "id": "997c16cf",
   "metadata": {},
   "source": [
    "# Convert streams to STFT"
   ]
  },
  {
   "cell_type": "code",
   "execution_count": null,
   "id": "bdac3cf7",
   "metadata": {},
   "outputs": [],
   "source": [
    "# STFT of the stream and then reverse STFT back into original stream\n",
    "# f, t, Zxx = stft(x_1[1][0], window='hanning', fs=100, nperseg=155)\n",
    "# k2 = istft(Zxx, window='hanning', fs=100, nperseg=155)"
   ]
  },
  {
   "cell_type": "code",
   "execution_count": null,
   "id": "d3fac668",
   "metadata": {},
   "outputs": [],
   "source": [
    "%%time\n",
    "x_train = build_stfts(x_1)\n",
    "x_test = build_stfts(x_2)"
   ]
  },
  {
   "cell_type": "markdown",
   "id": "fe100827",
   "metadata": {},
   "source": [
    "# Reshape data"
   ]
  },
  {
   "cell_type": "code",
   "execution_count": null,
   "id": "6dff485f",
   "metadata": {},
   "outputs": [],
   "source": [
    "x_train = x_train.reshape(x_train.shape[0], 1620)\n",
    "x_test = x_test.reshape(x_test.shape[0], 1620)"
   ]
  },
  {
   "cell_type": "code",
   "execution_count": null,
   "id": "1005bf5b",
   "metadata": {},
   "outputs": [],
   "source": [
    "X = np.expand_dims(x_train, axis = 2)\n",
    "X.shape"
   ]
  },
  {
   "cell_type": "code",
   "execution_count": null,
   "id": "57880d5f",
   "metadata": {},
   "outputs": [],
   "source": [
    "Y = np.array(y_train)\n",
    "Y.shape"
   ]
  },
  {
   "cell_type": "code",
   "execution_count": null,
   "id": "6f443923",
   "metadata": {},
   "outputs": [],
   "source": [
    "T = np.expand_dims(x_test, axis = 2)\n",
    "T.shape"
   ]
  },
  {
   "cell_type": "code",
   "execution_count": null,
   "id": "997736f6",
   "metadata": {},
   "outputs": [],
   "source": [
    "Q = np.array(y_test)\n",
    "Q.shape"
   ]
  },
  {
   "cell_type": "markdown",
   "id": "8761c2ef",
   "metadata": {},
   "source": [
    "# Logs and Tensorboard"
   ]
  },
  {
   "cell_type": "code",
   "execution_count": null,
   "id": "41c7de6f",
   "metadata": {},
   "outputs": [],
   "source": [
    "folder_name = f\"{MODEL_NAME} at {strftime('%H:%M')}\"\n",
    "log_dir = os.path.join(\"../log/\", folder_name)\n",
    "\n",
    "try:\n",
    "    os.makedirs(log_dir)\n",
    "except OSError as exception:\n",
    "    print(exception.strerror)\n",
    "else:\n",
    "    print(\"Successfully created dirs!\")"
   ]
  },
  {
   "cell_type": "markdown",
   "id": "85d1e592",
   "metadata": {},
   "source": [
    "# Define GAN"
   ]
  },
  {
   "cell_type": "code",
   "execution_count": null,
   "id": "42f75dc0",
   "metadata": {},
   "outputs": [],
   "source": [
    "def make_generator_model():\n",
    "    model = tf.keras.Sequential()\n",
    "    model.add(tf.keras.layers.Dense(3*3*30, use_bias=False, input_shape=(78,78)))\n",
    "    model.add(tf.keras.layers.BatchNormalization())\n",
    "    model.add(tf.keras.layers.LeakyReLU())\n",
    "\n",
    "    model.add(tf.keras.layers.Reshape((3, 3, 30)))\n",
    "\n",
    "    model.add(tf.keras.layers.Conv2DTranspose(128, (5, 5), strides=(1, 9), padding='same', use_bias=False))\n",
    "    model.add(tf.keras.layers.BatchNormalization())\n",
    "    model.add(tf.keras.layers.LeakyReLU())\n",
    "\n",
    "    model.add(tf.keras.layers.Conv2DTranspose(64, (5, 5), strides=(1, 5), padding='same', use_bias=False))\n",
    "    model.add(tf.keras.layers.BatchNormalization())\n",
    "    model.add(tf.keras.layers.LeakyReLU())\n",
    "\n",
    "    model.add(tf.keras.layers.Conv2DTranspose(1, (5, 5), strides=(1, 4), padding='same', use_bias=False, activation='tanh'))\n",
    "\n",
    "    return model"
   ]
  },
  {
   "cell_type": "code",
   "execution_count": null,
   "id": "c71ec9a8",
   "metadata": {},
   "outputs": [],
   "source": [
    "generator = make_generator_model()\n",
    "\n",
    "noise = tf.random.normal(dtype=tf.dtypes.float32, shape=[78, 78], stddev=5)\n",
    "generated_image = generator(noise, training=False)\n",
    "\n",
    "# TensorShape([1, 3, 540, 1])\n",
    "generated_image.shape"
   ]
  },
  {
   "cell_type": "code",
   "execution_count": null,
   "id": "9ff74b1d",
   "metadata": {
    "scrolled": false
   },
   "outputs": [],
   "source": [
    "plot_all(generated_image[0, :, :, 0], \"GAN Generator Noise\")"
   ]
  },
  {
   "cell_type": "code",
   "execution_count": null,
   "id": "4470704f",
   "metadata": {},
   "outputs": [],
   "source": [
    "adam = tf.keras.optimizers.Adam(learning_rate=0.001)\n",
    "\n",
    "model.compile(optimizer=adam,\n",
    "              loss=tf.keras.losses.SparseCategoricalCrossentropy(),\n",
    "              metrics=['accuracy'])\n",
    "model.summary()"
   ]
  },
  {
   "cell_type": "code",
   "execution_count": null,
   "id": "cbcfea30",
   "metadata": {},
   "outputs": [],
   "source": [
    "tensorboard_callback = tf.keras.callbacks.TensorBoard(log_dir=log_dir, histogram_freq=1)"
   ]
  },
  {
   "cell_type": "code",
   "execution_count": null,
   "id": "69362c48",
   "metadata": {},
   "outputs": [],
   "source": [
    "model.fit(X, Y, epochs=25, validation_data=(T, Q), callbacks=[tensorboard_callback])"
   ]
  },
  {
   "cell_type": "code",
   "execution_count": null,
   "id": "509817ea",
   "metadata": {},
   "outputs": [],
   "source": [
    "test_loss, test_acc = model.evaluate(T, Q, verbose=2)"
   ]
  },
  {
   "cell_type": "code",
   "execution_count": null,
   "id": "1a19e111",
   "metadata": {},
   "outputs": [],
   "source": []
  },
  {
   "cell_type": "code",
   "execution_count": null,
   "id": "5dc60f5d",
   "metadata": {},
   "outputs": [],
   "source": []
  }
 ],
 "metadata": {
  "interpreter": {
   "hash": "11fb87684b5e7e8b7a77280a5a30a28e41ff00f13a000705cb6714e5054607b4"
  },
  "kernelspec": {
   "display_name": "Python 3 (ipykernel)",
   "language": "python",
   "name": "python3"
  },
  "language_info": {
   "codemirror_mode": {
    "name": "ipython",
    "version": 3
   },
   "file_extension": ".py",
   "mimetype": "text/x-python",
   "name": "python",
   "nbconvert_exporter": "python",
   "pygments_lexer": "ipython3",
   "version": "3.8.10"
  }
 },
 "nbformat": 4,
 "nbformat_minor": 5
}
