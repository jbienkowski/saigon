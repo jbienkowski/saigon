{
 "cells": [
  {
   "cell_type": "code",
   "execution_count": null,
   "id": "0cec8a5d",
   "metadata": {},
   "outputs": [],
   "source": [
    "import os\n",
    "import h5py\n",
    "import tensorflow as tf\n",
    "import numpy as np\n",
    "import pandas as pd\n",
    "import time\n",
    "\n",
    "import matplotlib.pyplot as plt\n",
    "import seaborn as sns\n",
    "\n",
    "from IPython import display\n",
    "from tensorflow.keras import layers\n",
    "from time import strftime\n",
    "from scipy.signal import spectrogram, stft, istft"
   ]
  },
  {
   "cell_type": "code",
   "execution_count": null,
   "id": "f937960f",
   "metadata": {},
   "outputs": [],
   "source": [
    "MODEL_NAME = \"GanPlayground\"\n",
    "BUFFER_SIZE = 60000\n",
    "BATCH_SIZE = 256"
   ]
  },
  {
   "cell_type": "code",
   "execution_count": null,
   "id": "e453034c",
   "metadata": {},
   "outputs": [],
   "source": [
    "def plot_all(do, label, fs=100, nperseg=150):\n",
    "    d0 = pd.DataFrame(data=do[0])\n",
    "    d1 = pd.DataFrame(data=do[1])\n",
    "    d2 = pd.DataFrame(data=do[2])\n",
    "\n",
    "    fig = plt.figure(figsize=(16, 10), dpi=80)\n",
    "    ax1 = plt.subplot2grid((5, 6), (0, 0), colspan=3)\n",
    "    ax2 = plt.subplot2grid((5, 6), (1, 0), colspan=3)\n",
    "    ax3 = plt.subplot2grid((5, 6), (2, 0), colspan=3)\n",
    "    ax4 = plt.subplot2grid((5, 6), (0, 3), colspan=3)\n",
    "    ax5 = plt.subplot2grid((5, 6), (1, 3), colspan=3)\n",
    "    ax6 = plt.subplot2grid((5, 6), (2, 3), colspan=3)\n",
    "    ax7 = plt.subplot2grid((5, 6), (3, 0), colspan=2, rowspan=2)\n",
    "    ax8 = plt.subplot2grid((5, 6), (3, 2), colspan=2, rowspan=2)\n",
    "    ax9 = plt.subplot2grid((5, 6), (3, 4), colspan=2, rowspan=2)\n",
    "    \n",
    "    plt.subplots_adjust(hspace=1, wspace=1)\n",
    "\n",
    "    sns.lineplot(data=d0, ax=ax1, linewidth=1, legend=None)\n",
    "    sns.lineplot(data=d1, ax=ax2, linewidth=1, legend=None)\n",
    "    sns.lineplot(data=d2, ax=ax3, linewidth=1, legend=None)\n",
    "\n",
    "    ax1.set_title(\"Vertical component waveform\")\n",
    "    ax1.set(xlabel=\"Samples\", ylabel=\"Amplitude counts\")\n",
    "    ax1.locator_params(nbins=6, axis=\"y\")\n",
    "\n",
    "    ax2.set_title(\"North component waveform\")\n",
    "    ax2.set(xlabel=\"Samples\", ylabel=\"Amplitude counts\")\n",
    "    ax2.locator_params(nbins=6, axis=\"y\")\n",
    "\n",
    "    ax3.set_title(\"East component waveform\")\n",
    "    ax3.set(xlabel=\"Samples\", ylabel=\"Amplitude counts\")\n",
    "    ax3.locator_params(nbins=6, axis=\"y\")\n",
    "    \n",
    "    f_0, t_0, Sxx_0 = spectrogram(x=do[0], fs=fs)\n",
    "    f_1, t_1, Sxx_1 = spectrogram(x=do[1], fs=fs)\n",
    "    f_2, t_2, Sxx_2 = spectrogram(x=do[2], fs=fs)\n",
    "\n",
    "    ax4.clear()\n",
    "    ax4.set_title(\"Vertical component spectrogram\")\n",
    "    ax4.pcolormesh(t_0, f_0, Sxx_0, shading=\"gouraud\")\n",
    "    ax4.set(xlabel=\"Time [sec]\", ylabel=\"Frequency [Hz]\")\n",
    "\n",
    "    ax5.clear()\n",
    "    ax5.set_title(\"North component spectrogram\")\n",
    "    ax5.pcolormesh(t_1, f_1, Sxx_1, shading=\"gouraud\")\n",
    "    ax5.set(xlabel=\"Time [sec]\", ylabel=\"Frequency [Hz]\")\n",
    "\n",
    "    ax6.clear()\n",
    "    ax6.set_title(\"East component spectrogram\")\n",
    "    ax6.pcolormesh(t_2, f_2, Sxx_2, shading=\"gouraud\")\n",
    "    ax6.set(xlabel=\"Time [sec]\", ylabel=\"Frequency [Hz]\")\n",
    "    \n",
    "    f_sftt_0, t_sftt_0, Zxx_0 = stft(do[0], window='hanning', fs=fs, nperseg=nperseg)\n",
    "    f_sftt_1, t_sftt_1, Zxx_1 = stft(do[1], window='hanning', fs=fs, nperseg=nperseg)\n",
    "    f_sftt_2, t_sftt_2, Zxx_2 = stft(do[2], window='hanning', fs=fs, nperseg=nperseg)\n",
    "    \n",
    "    ax7.clear()\n",
    "    ax7.set_title(\"Vertical component STFT\")\n",
    "    ax7.pcolormesh(t_sftt_0, f_sftt_0, np.abs(Zxx_0), shading='auto')\n",
    "    \n",
    "    ax8.clear()\n",
    "    ax8.set_title(\"North component STFT\")\n",
    "    ax8.pcolormesh(t_sftt_1, f_sftt_1, np.abs(Zxx_1), shading='auto')\n",
    "    \n",
    "    ax9.clear()\n",
    "    ax9.set_title(\"East component STFT\")\n",
    "    ax9.pcolormesh(t_sftt_2, f_sftt_2, np.abs(Zxx_2), shading='auto')\n",
    "\n",
    "    plt.suptitle(label, fontsize=14)"
   ]
  },
  {
   "cell_type": "code",
   "execution_count": null,
   "id": "b1e329e1",
   "metadata": {},
   "outputs": [],
   "source": [
    "def plot_single_stream(do, label, fs=100, nperseg=150):\n",
    "    d0 = pd.DataFrame(data=do)\n",
    "\n",
    "    fig = plt.figure(figsize=(16, 16), dpi=80)\n",
    "    ax1 = plt.subplot2grid((4, 1), (0, 0))\n",
    "    ax2 = plt.subplot2grid((4, 1), (1, 0))\n",
    "    ax3 = plt.subplot2grid((4, 1), (2, 0), rowspan=2)\n",
    "    \n",
    "    plt.subplots_adjust(hspace=0.5)\n",
    "\n",
    "    sns.lineplot(data=do, ax=ax1, linewidth=1, legend=None)\n",
    "\n",
    "    ax1.set_title(\"Waveform\")\n",
    "    ax1.set(xlabel=\"Samples\", ylabel=\"Amplitude counts\")\n",
    "    ax1.locator_params(nbins=6, axis=\"y\")\n",
    "    \n",
    "    f, t, Sxx = spectrogram(x=do, fs=fs)\n",
    "\n",
    "    ax2.clear()\n",
    "    ax2.set_title(\"Spectrogram\")\n",
    "    ax2.pcolormesh(t, f, Sxx, shading=\"gouraud\")\n",
    "    ax2.set(xlabel=\"Time [sec]\", ylabel=\"Frequency [Hz]\")\n",
    "    \n",
    "    f_sftt, t_sftt, Zxx = stft(do, window='hanning', fs=fs, nperseg=nperseg)\n",
    "    \n",
    "    ax3.clear()\n",
    "    ax3.set_title(\"STFT\")\n",
    "    ax3.pcolormesh(t_sftt, f_sftt, np.abs(Zxx), shading='auto')\n",
    "\n",
    "    plt.suptitle(label, fontsize=14)"
   ]
  },
  {
   "cell_type": "code",
   "execution_count": null,
   "id": "54931672",
   "metadata": {},
   "outputs": [],
   "source": [
    "def plot_stft(stream, fs=100, nperseg=155):\n",
    "    f, t, Zxx = stft(stream, window='hanning', fs=fs, nperseg=nperseg)\n",
    "    # plt.specgram(x_1[0][0], cmap='plasma', Fs=100)\n",
    "    plt.pcolormesh(t, f, np.abs(Zxx), shading='auto')"
   ]
  },
  {
   "cell_type": "code",
   "execution_count": null,
   "id": "4c3cb57f",
   "metadata": {},
   "outputs": [],
   "source": [
    "def get_data(file_path, idx_start, idx_end, idx_slice):\n",
    "    x_train = None\n",
    "#     y_train = None\n",
    "    evi_train = None\n",
    "    x_test = None\n",
    "#     y_test = None\n",
    "    evi_test = None\n",
    "    with h5py.File(file_path, \"r\") as f:\n",
    "        x_train = f[\"data\"][idx_start:idx_slice]\n",
    "#         y_train = f[\"labels\"][idx_start:idx_slice]\n",
    "        evi_train = f[\"keys\"][idx_start:idx_slice]\n",
    "        x_test = f[\"data\"][idx_slice:idx_end]\n",
    "#         y_test = f[\"labels\"][idx_slice:idx_end]\n",
    "        evi_test = f[\"keys\"][idx_slice:idx_end]\n",
    "#         return (x_train, y_train, evi_train, x_test, y_test, evi_test)\n",
    "        return (x_train, evi_train, x_test, evi_test)"
   ]
  },
  {
   "cell_type": "code",
   "execution_count": null,
   "id": "97daaf9b",
   "metadata": {},
   "outputs": [],
   "source": [
    "def build_stfts(x):\n",
    "    x_train = []\n",
    "\n",
    "    for idx, triplet in enumerate(x):\n",
    "        for stream in triplet:\n",
    "            _, _, zxx = stft(stream, window='hanning', nperseg=155)\n",
    "            x_train.append(np.abs(zxx))\n",
    "\n",
    "    return (np.array(x_train))"
   ]
  },
  {
   "cell_type": "markdown",
   "id": "5f59a544",
   "metadata": {},
   "source": [
    "# Read processed data\n",
    "\n",
    "`x_?` is a dataset of streams:\n",
    "\n",
    "`x_?[0][0]` -> Z component\n",
    "\n",
    "`x_?[0][1]` -> N component\n",
    "\n",
    "`x_?[0][2]` -> E component\n",
    "\n",
    "`y_?` is a dataset of labels corresponding to streams. `1` means earthquake, `0` means noise."
   ]
  },
  {
   "cell_type": "code",
   "execution_count": null,
   "id": "8ee766d5",
   "metadata": {},
   "outputs": [],
   "source": [
    "# (x_1, y_1, evi_1, x_2, y_2, evi_2) = get_data(\"../data/STEAD-processed-gan.hdf5\", 10000, 20000, 18000)\n",
    "(x_1, evi_1, x_2, evi_2) = get_data(\"../data/STEAD-processed-gan.hdf5\", 1000, 2000, 1800)"
   ]
  },
  {
   "cell_type": "code",
   "execution_count": null,
   "id": "fafbc17a",
   "metadata": {},
   "outputs": [],
   "source": [
    "idx = 12\n",
    "plot_all(x_1[idx], evi_1[idx].decode(\"utf-8\"))"
   ]
  },
  {
   "cell_type": "markdown",
   "id": "997c16cf",
   "metadata": {},
   "source": [
    "# Convert streams to STFT"
   ]
  },
  {
   "cell_type": "code",
   "execution_count": null,
   "id": "bdac3cf7",
   "metadata": {},
   "outputs": [],
   "source": [
    "# STFT of the stream and then reverse STFT back into original stream\n",
    "# f, t, Zxx = stft(x_1[1][0], window='hanning', fs=100, nperseg=155)\n",
    "# k2 = istft(Zxx, window='hanning', fs=100, nperseg=155)"
   ]
  },
  {
   "cell_type": "code",
   "execution_count": null,
   "id": "d3fac668",
   "metadata": {},
   "outputs": [],
   "source": [
    "%%time\n",
    "x_train = build_stfts(x_1)\n",
    "x_test = build_stfts(x_2)"
   ]
  },
  {
   "cell_type": "markdown",
   "id": "fe100827",
   "metadata": {},
   "source": [
    "# Reshape data"
   ]
  },
  {
   "cell_type": "code",
   "execution_count": null,
   "id": "6dff485f",
   "metadata": {},
   "outputs": [],
   "source": [
    "x_train = x_train.reshape(x_train.shape[0], 78, 78, 1).astype('float32')\n",
    "x_test = x_test.reshape(x_test.shape[0], 78, 78, 1).astype('float32')"
   ]
  },
  {
   "cell_type": "code",
   "execution_count": null,
   "id": "da77bff2",
   "metadata": {},
   "outputs": [],
   "source": [
    "train_dataset = tf.data.Dataset.from_tensor_slices(x_train).shuffle(BUFFER_SIZE).batch(BATCH_SIZE)"
   ]
  },
  {
   "cell_type": "code",
   "execution_count": null,
   "id": "d12895ea",
   "metadata": {},
   "outputs": [],
   "source": [
    "train_dataset"
   ]
  },
  {
   "cell_type": "markdown",
   "id": "8761c2ef",
   "metadata": {},
   "source": [
    "# Logs and Tensorboard"
   ]
  },
  {
   "cell_type": "code",
   "execution_count": null,
   "id": "41c7de6f",
   "metadata": {},
   "outputs": [],
   "source": [
    "folder_name = f\"{MODEL_NAME} at {strftime('%H:%M')}\"\n",
    "log_dir = os.path.join(\"../log/\", folder_name)\n",
    "\n",
    "try:\n",
    "    os.makedirs(log_dir)\n",
    "except OSError as exception:\n",
    "    print(exception.strerror)\n",
    "else:\n",
    "    print(\"Successfully created dirs!\")"
   ]
  },
  {
   "cell_type": "markdown",
   "id": "85d1e592",
   "metadata": {},
   "source": [
    "# Define GAN"
   ]
  },
  {
   "cell_type": "code",
   "execution_count": null,
   "id": "42f75dc0",
   "metadata": {},
   "outputs": [],
   "source": [
    "def make_generator_model():\n",
    "    model = tf.keras.Sequential()\n",
    "    model.add(layers.Dense(3*3*1024, use_bias=False, input_shape=(100,)))\n",
    "    model.add(layers.BatchNormalization())\n",
    "    model.add(layers.LeakyReLU())\n",
    "\n",
    "    model.add(layers.Reshape((3, 3, 1024)))\n",
    "\n",
    "    model.add(layers.Conv2DTranspose(512, (10, 10), strides=(1, 1), padding='same', use_bias=False))\n",
    "    model.add(layers.BatchNormalization())\n",
    "    model.add(layers.LeakyReLU())\n",
    "\n",
    "    model.add(layers.Conv2DTranspose(256, (10, 10), strides=(2, 2), padding='same', use_bias=False))\n",
    "    model.add(layers.BatchNormalization())\n",
    "    model.add(layers.LeakyReLU())\n",
    "    \n",
    "    model.add(layers.Conv2DTranspose(128, (10, 10), strides=(13, 13), padding='same', use_bias=False))\n",
    "    model.add(layers.BatchNormalization())\n",
    "    model.add(layers.LeakyReLU())\n",
    "\n",
    "\n",
    "    model.add(layers.Conv2DTranspose(1, (10, 10), strides=(1, 1), padding='same', use_bias=False, activation='tanh'))\n",
    "\n",
    "    return model"
   ]
  },
  {
   "cell_type": "code",
   "execution_count": null,
   "id": "c71ec9a8",
   "metadata": {},
   "outputs": [],
   "source": [
    "generator = make_generator_model()\n",
    "\n",
    "# noise = tf.random.normal(dtype=tf.dtypes.float32, shape=[78, 78], stddev=5)\n",
    "noise = tf.random.normal([1, 100], dtype=tf.dtypes.float32, stddev=10e3)\n",
    "generated_stft = generator(noise, training=False)\n",
    "\n",
    "# TensorShape([1, 78, 78, 1]) \n",
    "generated_stft.shape"
   ]
  },
  {
   "cell_type": "code",
   "execution_count": null,
   "id": "9ff74b1d",
   "metadata": {
    "scrolled": false
   },
   "outputs": [],
   "source": [
    "inversed = istft(generated_stft[0, :, :, 0], window='hanning', fs=100, nperseg=155)\n",
    "plot_single_stream(inversed[1][:6000], \"GAN Generator Noise\")"
   ]
  },
  {
   "cell_type": "code",
   "execution_count": null,
   "id": "1a19e111",
   "metadata": {},
   "outputs": [],
   "source": [
    "def make_discriminator_model():\n",
    "    model = tf.keras.Sequential()\n",
    "    model.add(layers.Conv2D(64, (5, 5), strides=(2, 2), padding='same',\n",
    "                                     input_shape=[78, 78, 1]))\n",
    "    model.add(layers.LeakyReLU())\n",
    "    model.add(layers.Dropout(0.3))\n",
    "\n",
    "    model.add(layers.Conv2D(128, (5, 5), strides=(2, 2), padding='same'))\n",
    "    model.add(layers.LeakyReLU())\n",
    "    model.add(layers.Dropout(0.3))\n",
    "\n",
    "    model.add(layers.Flatten())\n",
    "    model.add(layers.Dense(1))\n",
    "\n",
    "    return model"
   ]
  },
  {
   "cell_type": "code",
   "execution_count": null,
   "id": "5dc60f5d",
   "metadata": {},
   "outputs": [],
   "source": [
    "discriminator = make_discriminator_model()\n",
    "decision = discriminator(generated_image)\n",
    "print (decision)"
   ]
  },
  {
   "cell_type": "code",
   "execution_count": null,
   "id": "df48ac23",
   "metadata": {},
   "outputs": [],
   "source": [
    "# This method returns a helper function to compute cross entropy loss\n",
    "cross_entropy = tf.keras.losses.BinaryCrossentropy(from_logits=True)"
   ]
  },
  {
   "cell_type": "code",
   "execution_count": null,
   "id": "a9c63242",
   "metadata": {},
   "outputs": [],
   "source": [
    "def discriminator_loss(real_output, fake_output):\n",
    "    real_loss = cross_entropy(tf.ones_like(real_output), real_output)\n",
    "    fake_loss = cross_entropy(tf.zeros_like(fake_output), fake_output)\n",
    "    total_loss = real_loss + fake_loss\n",
    "    return total_loss"
   ]
  },
  {
   "cell_type": "code",
   "execution_count": null,
   "id": "72c718af",
   "metadata": {},
   "outputs": [],
   "source": [
    "def generator_loss(fake_output):\n",
    "    return cross_entropy(tf.ones_like(fake_output), fake_output)"
   ]
  },
  {
   "cell_type": "code",
   "execution_count": null,
   "id": "c75b26d8",
   "metadata": {},
   "outputs": [],
   "source": [
    "generator_optimizer = tf.keras.optimizers.Adam(1e-4)\n",
    "discriminator_optimizer = tf.keras.optimizers.Adam(1e-4)"
   ]
  },
  {
   "cell_type": "code",
   "execution_count": null,
   "id": "a855866f",
   "metadata": {},
   "outputs": [],
   "source": [
    "checkpoint_dir = './training_checkpoints'\n",
    "checkpoint_prefix = os.path.join(checkpoint_dir, \"ckpt\")\n",
    "checkpoint = tf.train.Checkpoint(generator_optimizer=generator_optimizer,\n",
    "                                 discriminator_optimizer=discriminator_optimizer,\n",
    "                                 generator=generator,\n",
    "                                 discriminator=discriminator)"
   ]
  },
  {
   "cell_type": "code",
   "execution_count": null,
   "id": "f9a02d2f",
   "metadata": {},
   "outputs": [],
   "source": [
    "EPOCHS = 50\n",
    "noise_dim = 100\n",
    "num_examples_to_generate = 16\n",
    "\n",
    "# You will reuse this seed overtime (so it's easier)\n",
    "# to visualize progress in the animated GIF)\n",
    "seed = tf.random.normal([num_examples_to_generate, noise_dim])"
   ]
  },
  {
   "cell_type": "code",
   "execution_count": null,
   "id": "f5a0afba",
   "metadata": {},
   "outputs": [],
   "source": [
    "# Notice the use of `tf.function`\n",
    "# This annotation causes the function to be \"compiled\".\n",
    "@tf.function\n",
    "def train_step(images):\n",
    "    noise = tf.random.normal([BATCH_SIZE, noise_dim])\n",
    "\n",
    "    with tf.GradientTape() as gen_tape, tf.GradientTape() as disc_tape:\n",
    "      generated_images = generator(noise, training=True)\n",
    "\n",
    "      real_output = discriminator(images, training=True)\n",
    "      fake_output = discriminator(generated_images, training=True)\n",
    "\n",
    "      gen_loss = generator_loss(fake_output)\n",
    "      disc_loss = discriminator_loss(real_output, fake_output)\n",
    "\n",
    "    gradients_of_generator = gen_tape.gradient(gen_loss, generator.trainable_variables)\n",
    "    gradients_of_discriminator = disc_tape.gradient(disc_loss, discriminator.trainable_variables)\n",
    "\n",
    "    generator_optimizer.apply_gradients(zip(gradients_of_generator, generator.trainable_variables))\n",
    "    discriminator_optimizer.apply_gradients(zip(gradients_of_discriminator, discriminator.trainable_variables))"
   ]
  },
  {
   "cell_type": "code",
   "execution_count": null,
   "id": "2e37b962",
   "metadata": {},
   "outputs": [],
   "source": [
    "def train(dataset, epochs):\n",
    "  for epoch in range(epochs):\n",
    "    start = time.time()\n",
    "\n",
    "    for image_batch in dataset:\n",
    "      train_step(image_batch)\n",
    "\n",
    "    # Produce images for the GIF as you go\n",
    "    display.clear_output(wait=True)\n",
    "    generate_and_save_images(generator,\n",
    "                             epoch + 1,\n",
    "                             seed)\n",
    "\n",
    "    # Save the model every 15 epochs\n",
    "    if (epoch + 1) % 15 == 0:\n",
    "      checkpoint.save(file_prefix = checkpoint_prefix)\n",
    "\n",
    "    print ('Time for epoch {} is {} sec'.format(epoch + 1, time.time()-start))\n",
    "\n",
    "  # Generate after the final epoch\n",
    "  display.clear_output(wait=True)\n",
    "  generate_and_save_images(generator,\n",
    "                           epochs,\n",
    "                           seed)"
   ]
  },
  {
   "cell_type": "code",
   "execution_count": null,
   "id": "45e83d84",
   "metadata": {},
   "outputs": [],
   "source": [
    "def generate_and_save_images(model, epoch, test_input):\n",
    "  # Notice `training` is set to False.\n",
    "  # This is so all layers run in inference mode (batchnorm).\n",
    "  predictions = model(test_input, training=False)\n",
    "\n",
    "  fig = plt.figure(figsize=(4, 4))\n",
    "\n",
    "  for i in range(predictions.shape[0]):\n",
    "      plt.subplot(4, 4, i+1)\n",
    "      plt.plot(predictions[i, :, :, 0][:6000])\n",
    "      plt.axis('off')\n",
    "\n",
    "  plt.savefig('image_at_epoch_{:04d}.png'.format(epoch))\n",
    "  plt.show()"
   ]
  },
  {
   "cell_type": "code",
   "execution_count": null,
   "id": "1c6ff339",
   "metadata": {},
   "outputs": [],
   "source": [
    "train(train_dataset, EPOCHS)"
   ]
  },
  {
   "cell_type": "code",
   "execution_count": null,
   "id": "6812c938",
   "metadata": {},
   "outputs": [],
   "source": []
  }
 ],
 "metadata": {
  "interpreter": {
   "hash": "11fb87684b5e7e8b7a77280a5a30a28e41ff00f13a000705cb6714e5054607b4"
  },
  "kernelspec": {
   "display_name": "Python 3 (ipykernel)",
   "language": "python",
   "name": "python3"
  },
  "language_info": {
   "codemirror_mode": {
    "name": "ipython",
    "version": 3
   },
   "file_extension": ".py",
   "mimetype": "text/x-python",
   "name": "python",
   "nbconvert_exporter": "python",
   "pygments_lexer": "ipython3",
   "version": "3.8.10"
  }
 },
 "nbformat": 4,
 "nbformat_minor": 5
}
