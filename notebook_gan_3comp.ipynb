{
 "cells": [
  {
   "cell_type": "code",
   "execution_count": null,
   "id": "0cec8a5d",
   "metadata": {},
   "outputs": [],
   "source": [
    "import os\n",
    "import h5py\n",
    "import tensorflow as tf\n",
    "import numpy as np\n",
    "import pandas as pd\n",
    "\n",
    "import matplotlib.pyplot as plt\n",
    "import seaborn as sns\n",
    "\n",
    "from tensorflow.keras import layers\n",
    "from time import strftime\n",
    "from scipy.signal import spectrogram, stft, istft"
   ]
  },
  {
   "cell_type": "code",
   "execution_count": null,
   "id": "f937960f",
   "metadata": {},
   "outputs": [],
   "source": [
    "MODEL_NAME = \"GanPlayground3comp\"\n",
    "BUFFER_SIZE = 1000\n",
    "BATCH_SIZE = 128\n",
    "NUM_EXAMPLES_TO_GENERATE = 1\n",
    "NOISE_DIM = 100\n",
    "STEAD_PATH_DB = \"/home/jarek/github/saigon/data/STEAD-processed-stft-microseism-multi.hdf5\""
   ]
  },
  {
   "cell_type": "code",
   "execution_count": null,
   "id": "e51364eb",
   "metadata": {},
   "outputs": [],
   "source": [
    "def plot_all(do, label, fs=100, nperseg=155, file_path=None):\n",
    "    d0 = pd.DataFrame(data=do[0])\n",
    "    d1 = pd.DataFrame(data=do[1])\n",
    "    d2 = pd.DataFrame(data=do[2])\n",
    "\n",
    "    fig = plt.figure(figsize=(16, 10), dpi=80)\n",
    "    ax1 = plt.subplot2grid((5, 6), (0, 0), colspan=3)\n",
    "    ax2 = plt.subplot2grid((5, 6), (1, 0), colspan=3)\n",
    "    ax3 = plt.subplot2grid((5, 6), (2, 0), colspan=3)\n",
    "    ax4 = plt.subplot2grid((5, 6), (0, 3), colspan=3)\n",
    "    ax5 = plt.subplot2grid((5, 6), (1, 3), colspan=3)\n",
    "    ax6 = plt.subplot2grid((5, 6), (2, 3), colspan=3)\n",
    "    ax7 = plt.subplot2grid((5, 6), (3, 0), colspan=2, rowspan=2)\n",
    "    ax8 = plt.subplot2grid((5, 6), (3, 2), colspan=2, rowspan=2)\n",
    "    ax9 = plt.subplot2grid((5, 6), (3, 4), colspan=2, rowspan=2)\n",
    "\n",
    "    plt.subplots_adjust(hspace=1, wspace=1)\n",
    "\n",
    "    sns.lineplot(data=d0, ax=ax1, linewidth=1, legend=None)\n",
    "    sns.lineplot(data=d1, ax=ax2, linewidth=1, legend=None)\n",
    "    sns.lineplot(data=d2, ax=ax3, linewidth=1, legend=None)\n",
    "\n",
    "    ax1.set_title(\"Vertical component waveform\")\n",
    "    ax1.set(xlabel=\"Samples\", ylabel=\"Amplitude counts\")\n",
    "    ax1.locator_params(nbins=6, axis=\"y\")\n",
    "\n",
    "    ax2.set_title(\"North component waveform\")\n",
    "    ax2.set(xlabel=\"Samples\", ylabel=\"Amplitude counts\")\n",
    "    ax2.locator_params(nbins=6, axis=\"y\")\n",
    "\n",
    "    ax3.set_title(\"East component waveform\")\n",
    "    ax3.set(xlabel=\"Samples\", ylabel=\"Amplitude counts\")\n",
    "    ax3.locator_params(nbins=6, axis=\"y\")\n",
    "\n",
    "    f_0, t_0, Sxx_0 = spectrogram(x=do[0], fs=fs)\n",
    "    f_1, t_1, Sxx_1 = spectrogram(x=do[1], fs=fs)\n",
    "    f_2, t_2, Sxx_2 = spectrogram(x=do[2], fs=fs)\n",
    "\n",
    "    ax4.clear()\n",
    "    ax4.set_title(\"Vertical component spectrogram\")\n",
    "    ax4.pcolormesh(t_0, f_0, Sxx_0, shading=\"gouraud\")\n",
    "    ax4.set(xlabel=\"Time [sec]\", ylabel=\"Frequency [Hz]\")\n",
    "\n",
    "    ax5.clear()\n",
    "    ax5.set_title(\"North component spectrogram\")\n",
    "    ax5.pcolormesh(t_1, f_1, Sxx_1, shading=\"gouraud\")\n",
    "    ax5.set(xlabel=\"Time [sec]\", ylabel=\"Frequency [Hz]\")\n",
    "\n",
    "    ax6.clear()\n",
    "    ax6.set_title(\"East component spectrogram\")\n",
    "    ax6.pcolormesh(t_2, f_2, Sxx_2, shading=\"gouraud\")\n",
    "    ax6.set(xlabel=\"Time [sec]\", ylabel=\"Frequency [Hz]\")\n",
    "\n",
    "    f_sftt_0, t_sftt_0, Zxx_0 = stft(\n",
    "        do[0], window=\"hanning\", fs=fs, nperseg=nperseg\n",
    "    )\n",
    "    f_sftt_1, t_sftt_1, Zxx_1 = stft(\n",
    "        do[1], window=\"hanning\", fs=fs, nperseg=nperseg\n",
    "    )\n",
    "    f_sftt_2, t_sftt_2, Zxx_2 = stft(\n",
    "        do[2], window=\"hanning\", fs=fs, nperseg=nperseg\n",
    "    )\n",
    "\n",
    "    ax7.clear()\n",
    "    ax7.set_title(\"Vertical component STFT\")\n",
    "    ax7.pcolormesh(t_sftt_0, f_sftt_0, np.abs(Zxx_0), shading=\"auto\")\n",
    "\n",
    "    ax8.clear()\n",
    "    ax8.set_title(\"North component STFT\")\n",
    "    ax8.pcolormesh(t_sftt_1, f_sftt_1, np.abs(Zxx_1), shading=\"auto\")\n",
    "\n",
    "    ax9.clear()\n",
    "    ax9.set_title(\"East component STFT\")\n",
    "    ax9.pcolormesh(t_sftt_2, f_sftt_2, np.abs(Zxx_2), shading=\"auto\")\n",
    "\n",
    "    plt.suptitle(label, fontsize=14)\n",
    "\n",
    "    if file_path != None:\n",
    "        plt.savefig(file_path)\n",
    "        plt.close(fig)"
   ]
  },
  {
   "cell_type": "code",
   "execution_count": null,
   "id": "54931672",
   "metadata": {},
   "outputs": [],
   "source": [
    "def plot_stft(stream, fs=100, nperseg=155):\n",
    "    f, t, Zxx = stft(stream, window='hanning', fs=fs, nperseg=nperseg)\n",
    "    # plt.specgram(x_1[0][0], cmap='plasma', Fs=100)\n",
    "    plt.pcolormesh(t, f, np.abs(Zxx), shading='auto')"
   ]
  },
  {
   "cell_type": "code",
   "execution_count": null,
   "id": "4c3cb57f",
   "metadata": {},
   "outputs": [],
   "source": [
    "def get_stft_data(file_path, arr_length):\n",
    "    with h5py.File(file_path, \"r\") as f:\n",
    "        keys = f[\"keys\"][:arr_length]\n",
    "        data = f[\"data\"][:arr_length]\n",
    "        return (keys, data)"
   ]
  },
  {
   "cell_type": "markdown",
   "id": "5f59a544",
   "metadata": {},
   "source": [
    "# Read processed data"
   ]
  },
  {
   "cell_type": "code",
   "execution_count": null,
   "id": "8ee766d5",
   "metadata": {},
   "outputs": [],
   "source": [
    "(keys, x_train) = get_stft_data(\n",
    "    STEAD_PATH_DB, 50000\n",
    ")"
   ]
  },
  {
   "cell_type": "markdown",
   "id": "997c16cf",
   "metadata": {},
   "source": [
    "# Convert streams to STFT"
   ]
  },
  {
   "cell_type": "code",
   "execution_count": null,
   "id": "bdac3cf7",
   "metadata": {},
   "outputs": [],
   "source": [
    "# STFT of the stream and then reverse STFT back into original stream\n",
    "# f, t, Zxx = stft(x_1[1][0], window='hanning', fs=100, nperseg=155)\n",
    "# k2 = istft(Zxx, window='hanning', fs=100, nperseg=155)"
   ]
  },
  {
   "cell_type": "markdown",
   "id": "fe100827",
   "metadata": {},
   "source": [
    "# Scale and reshape data"
   ]
  },
  {
   "cell_type": "code",
   "execution_count": null,
   "id": "834b6812",
   "metadata": {},
   "outputs": [],
   "source": [
    "x_train = x_train.reshape(x_train.shape[0], 78, 78, 3)"
   ]
  },
  {
   "cell_type": "code",
   "execution_count": null,
   "id": "da77bff2",
   "metadata": {},
   "outputs": [],
   "source": [
    "train_dataset = (\n",
    "    tf.data.Dataset.from_tensor_slices(x_train)\n",
    "    .shuffle(BUFFER_SIZE)\n",
    "    .batch(BATCH_SIZE)\n",
    ")"
   ]
  },
  {
   "cell_type": "code",
   "execution_count": null,
   "id": "d12895ea",
   "metadata": {},
   "outputs": [],
   "source": [
    "train_dataset"
   ]
  },
  {
   "cell_type": "markdown",
   "id": "8761c2ef",
   "metadata": {},
   "source": [
    "# Logs and Tensorboard"
   ]
  },
  {
   "cell_type": "code",
   "execution_count": null,
   "id": "41c7de6f",
   "metadata": {},
   "outputs": [],
   "source": [
    "folder_name = f\"{MODEL_NAME} at {strftime('%H:%M')}\"\n",
    "log_dir = os.path.join(\"../log/\", folder_name)\n",
    "\n",
    "try:\n",
    "    os.makedirs(log_dir)\n",
    "except OSError as exception:\n",
    "    print(exception.strerror)\n",
    "else:\n",
    "    print(\"Successfully created dirs!\")"
   ]
  },
  {
   "cell_type": "markdown",
   "id": "85d1e592",
   "metadata": {},
   "source": [
    "# Define GAN"
   ]
  },
  {
   "cell_type": "code",
   "execution_count": null,
   "id": "42f75dc0",
   "metadata": {},
   "outputs": [],
   "source": [
    "def make_generator_model():\n",
    "    model = tf.keras.Sequential()\n",
    "    model.add(layers.Dense(3 * 3 * 128, use_bias=False, input_shape=(NOISE_DIM,)))\n",
    "    model.add(layers.BatchNormalization())\n",
    "    model.add(layers.LeakyReLU())\n",
    "\n",
    "    model.add(layers.Reshape((3, 3, 128)))\n",
    "\n",
    "    model.add(\n",
    "        layers.Conv2DTranspose(\n",
    "            64, (20, 20), strides=(1, 1), padding=\"same\", use_bias=False\n",
    "        )\n",
    "    )\n",
    "    model.add(layers.BatchNormalization())\n",
    "    model.add(layers.LeakyReLU())\n",
    "\n",
    "    model.add(\n",
    "        layers.Conv2DTranspose(\n",
    "            64, (20, 20), strides=(2, 2), padding=\"same\", use_bias=False\n",
    "        )\n",
    "    )\n",
    "    model.add(layers.BatchNormalization())\n",
    "    model.add(layers.LeakyReLU())\n",
    "\n",
    "    model.add(\n",
    "        layers.Conv2DTranspose(\n",
    "            64, (20, 20), strides=(13, 13), padding=\"same\", use_bias=False\n",
    "        )\n",
    "    )\n",
    "    model.add(layers.BatchNormalization())\n",
    "    model.add(layers.LeakyReLU())\n",
    "\n",
    "    model.add(\n",
    "        layers.Conv2DTranspose(\n",
    "            1,\n",
    "            (10, 10),\n",
    "            strides=(1, 1),\n",
    "            padding=\"same\",\n",
    "            use_bias=False,\n",
    "            activation=\"tanh\",\n",
    "        )\n",
    "    )\n",
    "    return model"
   ]
  },
  {
   "cell_type": "code",
   "execution_count": null,
   "id": "c71ec9a8",
   "metadata": {},
   "outputs": [],
   "source": [
    "generator = make_generator_model()\n",
    "\n",
    "noise = tf.random.normal([BATCH_SIZE, NOISE_DIM], stddev=10e5)\n",
    "generated_stft = generator(noise, training=False)\n",
    "\n",
    "generated_stft.shape"
   ]
  },
  {
   "cell_type": "code",
   "execution_count": null,
   "id": "b3cfdcfd",
   "metadata": {},
   "outputs": [],
   "source": [
    "generator.summary()"
   ]
  },
  {
   "cell_type": "code",
   "execution_count": null,
   "id": "2925e226",
   "metadata": {},
   "outputs": [],
   "source": [
    "tf.keras.utils.plot_model(generator, show_shapes=True, to_file=\"out/generator.png\")"
   ]
  },
  {
   "cell_type": "code",
   "execution_count": null,
   "id": "9ff74b1d",
   "metadata": {
    "scrolled": false
   },
   "outputs": [],
   "source": [
    "inversed = istft(generated_stft[0, :, :, 0], window='hanning', fs=100, nperseg=155)\n",
    "plot_all(inversed[1][:6000], \"GAN Generator Noise\")"
   ]
  },
  {
   "cell_type": "code",
   "execution_count": null,
   "id": "1a19e111",
   "metadata": {},
   "outputs": [],
   "source": [
    "def make_discriminator_model():\n",
    "    model = tf.keras.Sequential()\n",
    "\n",
    "    model.add(\n",
    "        layers.Conv2D(\n",
    "            156, (5, 5), strides=(2, 2), padding=\"same\", input_shape=[78, 78, 3]\n",
    "        )\n",
    "    )\n",
    "    model.add(layers.LeakyReLU())\n",
    "    model.add(layers.Dropout(0.3))\n",
    "\n",
    "    model.add(layers.Conv2D(312, (5, 5), strides=(13, 13), padding=\"same\"))\n",
    "    model.add(layers.LeakyReLU())\n",
    "    model.add(layers.Dropout(0.3))\n",
    "\n",
    "    model.add(layers.Flatten())\n",
    "    model.add(layers.Dense(1))\n",
    "\n",
    "    return model"
   ]
  },
  {
   "cell_type": "code",
   "execution_count": null,
   "id": "5dc60f5d",
   "metadata": {},
   "outputs": [],
   "source": [
    "discriminator = make_discriminator_model()"
   ]
  },
  {
   "cell_type": "code",
   "execution_count": null,
   "id": "a910ab72",
   "metadata": {},
   "outputs": [],
   "source": [
    "discriminator.summary()"
   ]
  },
  {
   "cell_type": "code",
   "execution_count": null,
   "id": "a668a6d4",
   "metadata": {},
   "outputs": [],
   "source": [
    "tf.keras.utils.plot_model(discriminator, show_shapes=True, to_file=\"out/discriminator.png\")"
   ]
  }
 ],
 "metadata": {
  "interpreter": {
   "hash": "11fb87684b5e7e8b7a77280a5a30a28e41ff00f13a000705cb6714e5054607b4"
  },
  "kernelspec": {
   "display_name": "Python 3 (ipykernel)",
   "language": "python",
   "name": "python3"
  },
  "language_info": {
   "codemirror_mode": {
    "name": "ipython",
    "version": 3
   },
   "file_extension": ".py",
   "mimetype": "text/x-python",
   "name": "python",
   "nbconvert_exporter": "python",
   "pygments_lexer": "ipython3",
   "version": "3.8.10"
  }
 },
 "nbformat": 4,
 "nbformat_minor": 5
}
